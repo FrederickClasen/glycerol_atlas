{
 "cells": [
  {
   "cell_type": "code",
   "execution_count": 23,
   "id": "5a4b62c8",
   "metadata": {},
   "outputs": [],
   "source": [
    "import pandas as pd\n",
    "import seaborn as sns"
   ]
  },
  {
   "cell_type": "code",
   "execution_count": 39,
   "id": "c5ee605e",
   "metadata": {},
   "outputs": [],
   "source": [
    "df = pd.read_excel('data/210511_allM_editing_averages.xlsx',sheet_name='DEN')\n",
    "df = df[['condition', 'species', 'sum_abs.3','Labelled_fraction.3','Labelled_absolute.3']].copy()"
   ]
  },
  {
   "cell_type": "code",
   "execution_count": 40,
   "id": "c2a21080",
   "metadata": {},
   "outputs": [],
   "source": [
    "tissue = 'Kidney'\n",
    "df_tissue = df[df['condition'].str.contains(tissue)]"
   ]
  },
  {
   "cell_type": "code",
   "execution_count": 41,
   "id": "2dbda670",
   "metadata": {},
   "outputs": [
    {
     "name": "stdout",
     "output_type": "stream",
     "text": [
      "['HCC_Kidney_30', 'HCC_Kidney_15', 'HCC_Kidney_120', 'HCC_Kidney_60']\n"
     ]
    }
   ],
   "source": [
    "print(list(set(df_tissue['condition'])))"
   ]
  },
  {
   "cell_type": "code",
   "execution_count": 42,
   "id": "aa2da8bb",
   "metadata": {},
   "outputs": [],
   "source": [
    "toPlot = pd.DataFrame(index=['HCC_Kidney_15','HCC_Kidney_30', 'HCC_Kidney_60','HCC_Kidney_120'],\n",
    "                      columns = list(set(df_tissue['species'])))"
   ]
  },
  {
   "cell_type": "code",
   "execution_count": 43,
   "id": "8eab437d",
   "metadata": {},
   "outputs": [],
   "source": [
    "for index,row in df_tissue.iterrows():\n",
    "    condition = row['condition']\n",
    "    species = row['species']\n",
    "    value = row['Labelled_absolute.3']\n",
    "    toPlot.at[condition,species] = value"
   ]
  },
  {
   "cell_type": "code",
   "execution_count": 44,
   "id": "88d47157",
   "metadata": {},
   "outputs": [
    {
     "data": {
      "text/html": [
       "<div>\n",
       "<style scoped>\n",
       "    .dataframe tbody tr th:only-of-type {\n",
       "        vertical-align: middle;\n",
       "    }\n",
       "\n",
       "    .dataframe tbody tr th {\n",
       "        vertical-align: top;\n",
       "    }\n",
       "\n",
       "    .dataframe thead th {\n",
       "        text-align: right;\n",
       "    }\n",
       "</style>\n",
       "<table border=\"1\" class=\"dataframe\">\n",
       "  <thead>\n",
       "    <tr style=\"text-align: right;\">\n",
       "      <th></th>\n",
       "      <th>a-Glycerophosphate 445</th>\n",
       "      <th>a-Glycerophosphate 357</th>\n",
       "      <th>Glucose 160</th>\n",
       "      <th>Glutamic acid 246</th>\n",
       "      <th>scyllo-Inositol 318</th>\n",
       "      <th>myo-Inositol 318</th>\n",
       "      <th>Alanine 116</th>\n",
       "      <th>Histidine 254</th>\n",
       "      <th>Isoleucine 158</th>\n",
       "      <th>Ornithine 142</th>\n",
       "      <th>...</th>\n",
       "      <th>Glucose 319</th>\n",
       "      <th>Glutamine 347</th>\n",
       "      <th>Glycerol 117</th>\n",
       "      <th>Citric acid 465</th>\n",
       "      <th>Glycine 174</th>\n",
       "      <th>Malic acid 245</th>\n",
       "      <th>Methionine 176</th>\n",
       "      <th>Norleucine 158</th>\n",
       "      <th>3-Phosphoglycerate 357</th>\n",
       "      <th>a-ketoglutaric acid 304</th>\n",
       "    </tr>\n",
       "  </thead>\n",
       "  <tbody>\n",
       "    <tr>\n",
       "      <th>HCC_Kidney_15</th>\n",
       "      <td>7.934872</td>\n",
       "      <td>8.185456</td>\n",
       "      <td>3.631114</td>\n",
       "      <td>1.869297</td>\n",
       "      <td>0</td>\n",
       "      <td>0</td>\n",
       "      <td>0.311503</td>\n",
       "      <td>0</td>\n",
       "      <td>0</td>\n",
       "      <td>0</td>\n",
       "      <td>...</td>\n",
       "      <td>3.246509</td>\n",
       "      <td>0.009134</td>\n",
       "      <td>0.320767</td>\n",
       "      <td>0.017435</td>\n",
       "      <td>0</td>\n",
       "      <td>0.072660</td>\n",
       "      <td>0</td>\n",
       "      <td>0</td>\n",
       "      <td>0.010486</td>\n",
       "      <td>0.006646</td>\n",
       "    </tr>\n",
       "    <tr>\n",
       "      <th>HCC_Kidney_30</th>\n",
       "      <td>0.536284</td>\n",
       "      <td>0.721707</td>\n",
       "      <td>2.162391</td>\n",
       "      <td>4.476534</td>\n",
       "      <td>0</td>\n",
       "      <td>0</td>\n",
       "      <td>0.230568</td>\n",
       "      <td>0</td>\n",
       "      <td>0</td>\n",
       "      <td>0</td>\n",
       "      <td>...</td>\n",
       "      <td>2.042535</td>\n",
       "      <td>0.002598</td>\n",
       "      <td>0.280486</td>\n",
       "      <td>0.030954</td>\n",
       "      <td>0</td>\n",
       "      <td>0.063377</td>\n",
       "      <td>0</td>\n",
       "      <td>0</td>\n",
       "      <td>0.003747</td>\n",
       "      <td>0.011604</td>\n",
       "    </tr>\n",
       "    <tr>\n",
       "      <th>HCC_Kidney_60</th>\n",
       "      <td>0.488060</td>\n",
       "      <td>0.782622</td>\n",
       "      <td>3.217622</td>\n",
       "      <td>4.372112</td>\n",
       "      <td>0</td>\n",
       "      <td>0</td>\n",
       "      <td>0.339696</td>\n",
       "      <td>0</td>\n",
       "      <td>0</td>\n",
       "      <td>0</td>\n",
       "      <td>...</td>\n",
       "      <td>3.218862</td>\n",
       "      <td>0.009452</td>\n",
       "      <td>0.099738</td>\n",
       "      <td>0.031854</td>\n",
       "      <td>0</td>\n",
       "      <td>0.079875</td>\n",
       "      <td>0</td>\n",
       "      <td>0</td>\n",
       "      <td>0.004325</td>\n",
       "      <td>0.015046</td>\n",
       "    </tr>\n",
       "    <tr>\n",
       "      <th>HCC_Kidney_120</th>\n",
       "      <td>0.362924</td>\n",
       "      <td>0.453317</td>\n",
       "      <td>0.678136</td>\n",
       "      <td>1.861963</td>\n",
       "      <td>0</td>\n",
       "      <td>0</td>\n",
       "      <td>0.126596</td>\n",
       "      <td>0</td>\n",
       "      <td>0</td>\n",
       "      <td>0</td>\n",
       "      <td>...</td>\n",
       "      <td>0.652787</td>\n",
       "      <td>0.006544</td>\n",
       "      <td>0.026704</td>\n",
       "      <td>0.011962</td>\n",
       "      <td>0</td>\n",
       "      <td>0.022565</td>\n",
       "      <td>0</td>\n",
       "      <td>0</td>\n",
       "      <td>0.001246</td>\n",
       "      <td>0.007696</td>\n",
       "    </tr>\n",
       "  </tbody>\n",
       "</table>\n",
       "<p>4 rows × 47 columns</p>\n",
       "</div>"
      ],
      "text/plain": [
       "                a-Glycerophosphate 445  a-Glycerophosphate 357  Glucose 160  \\\n",
       "HCC_Kidney_15                 7.934872                8.185456     3.631114   \n",
       "HCC_Kidney_30                 0.536284                0.721707     2.162391   \n",
       "HCC_Kidney_60                 0.488060                0.782622     3.217622   \n",
       "HCC_Kidney_120                0.362924                0.453317     0.678136   \n",
       "\n",
       "                Glutamic acid 246  scyllo-Inositol 318  myo-Inositol 318  \\\n",
       "HCC_Kidney_15            1.869297                    0                 0   \n",
       "HCC_Kidney_30            4.476534                    0                 0   \n",
       "HCC_Kidney_60            4.372112                    0                 0   \n",
       "HCC_Kidney_120           1.861963                    0                 0   \n",
       "\n",
       "                Alanine 116  Histidine 254  Isoleucine 158  Ornithine 142  \\\n",
       "HCC_Kidney_15      0.311503              0               0              0   \n",
       "HCC_Kidney_30      0.230568              0               0              0   \n",
       "HCC_Kidney_60      0.339696              0               0              0   \n",
       "HCC_Kidney_120     0.126596              0               0              0   \n",
       "\n",
       "                ...  Glucose 319  Glutamine 347  Glycerol 117  \\\n",
       "HCC_Kidney_15   ...     3.246509       0.009134      0.320767   \n",
       "HCC_Kidney_30   ...     2.042535       0.002598      0.280486   \n",
       "HCC_Kidney_60   ...     3.218862       0.009452      0.099738   \n",
       "HCC_Kidney_120  ...     0.652787       0.006544      0.026704   \n",
       "\n",
       "                Citric acid 465  Glycine 174  Malic acid 245  Methionine 176  \\\n",
       "HCC_Kidney_15          0.017435            0        0.072660               0   \n",
       "HCC_Kidney_30          0.030954            0        0.063377               0   \n",
       "HCC_Kidney_60          0.031854            0        0.079875               0   \n",
       "HCC_Kidney_120         0.011962            0        0.022565               0   \n",
       "\n",
       "                Norleucine 158  3-Phosphoglycerate 357  \\\n",
       "HCC_Kidney_15                0                0.010486   \n",
       "HCC_Kidney_30                0                0.003747   \n",
       "HCC_Kidney_60                0                0.004325   \n",
       "HCC_Kidney_120               0                0.001246   \n",
       "\n",
       "                a-ketoglutaric acid 304  \n",
       "HCC_Kidney_15                  0.006646  \n",
       "HCC_Kidney_30                  0.011604  \n",
       "HCC_Kidney_60                  0.015046  \n",
       "HCC_Kidney_120                 0.007696  \n",
       "\n",
       "[4 rows x 47 columns]"
      ]
     },
     "execution_count": 44,
     "metadata": {},
     "output_type": "execute_result"
    }
   ],
   "source": [
    "toPlot = toPlot.fillna(0)\n",
    "toPlot"
   ]
  },
  {
   "cell_type": "code",
   "execution_count": 45,
   "id": "1507db45",
   "metadata": {},
   "outputs": [
    {
     "data": {
      "text/plain": [
       "<seaborn.matrix.ClusterGrid at 0x11f741130>"
      ]
     },
     "execution_count": 45,
     "metadata": {},
     "output_type": "execute_result"
    },
    {
     "data": {
      "image/png": "[encoded data removed]",
      "text/plain": [
       "<Figure size 720x720 with 4 Axes>"
      ]
     },
     "metadata": {
      "needs_background": "light"
     },
     "output_type": "display_data"
    }
   ],
   "source": [
    "sns.clustermap(toPlot.T,col_cluster=False,cmap='vlag',center=0)"
   ]
  },
  {
   "cell_type": "code",
   "execution_count": null,
   "id": "fa1816e4",
   "metadata": {},
   "outputs": [],
   "source": []
  },
  {
   "cell_type": "code",
   "execution_count": null,
   "id": "60f56c29",
   "metadata": {},
   "outputs": [],
   "source": []
  },
  {
   "cell_type": "code",
   "execution_count": null,
   "id": "33eea781",
   "metadata": {},
   "outputs": [],
   "source": []
  },
  {
   "cell_type": "code",
   "execution_count": null,
   "id": "cf2e1e3c",
   "metadata": {},
   "outputs": [],
   "source": []
  }
 ],
 "metadata": {
  "kernelspec": {
   "display_name": "Python 3 (ipykernel)",
   "language": "python",
   "name": "python3"
  },
  "language_info": {
   "codemirror_mode": {
    "name": "ipython",
    "version": 3
   },
   "file_extension": ".py",
   "mimetype": "text/x-python",
   "name": "python",
   "nbconvert_exporter": "python",
   "pygments_lexer": "ipython3",
   "version": "3.9.6"
  }
 },
 "nbformat": 4,
 "nbformat_minor": 5
}
